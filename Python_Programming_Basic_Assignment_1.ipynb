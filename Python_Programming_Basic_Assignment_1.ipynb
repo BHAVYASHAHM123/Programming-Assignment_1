{
 "cells": [
  {
   "cell_type": "raw",
   "id": "116a1725",
   "metadata": {},
   "source": [
    "Q1). Write a Python program to print \"Hello Python\"?"
   ]
  },
  {
   "cell_type": "code",
   "execution_count": 1,
   "id": "4b9bedbd",
   "metadata": {},
   "outputs": [
    {
     "name": "stdout",
     "output_type": "stream",
     "text": [
      "Hello Python\n"
     ]
    }
   ],
   "source": [
    "print(\"Hello Python\")"
   ]
  },
  {
   "cell_type": "raw",
   "id": "1c5f3b0b",
   "metadata": {},
   "source": [
    "Q2). Write a Python program to do arithmetical operations addition and division.?"
   ]
  },
  {
   "cell_type": "code",
   "execution_count": 3,
   "id": "621dbad4",
   "metadata": {},
   "outputs": [
    {
     "name": "stdout",
     "output_type": "stream",
     "text": [
      "The Addition of a and b is:  15\n",
      "The Division of a and b is:  2.0\n"
     ]
    }
   ],
   "source": [
    "a = 10\n",
    "b = 5\n",
    "c = a + b\n",
    "d = a / b \n",
    "print(\"The Addition of a and b is: \",c)\n",
    "print(\"The Division of a and b is: \",d)"
   ]
  },
  {
   "cell_type": "raw",
   "id": "10a11450",
   "metadata": {},
   "source": [
    "Q3). Write a Python program to find the area of a triangle?"
   ]
  },
  {
   "cell_type": "code",
   "execution_count": 9,
   "id": "040f68cd",
   "metadata": {},
   "outputs": [
    {
     "name": "stdout",
     "output_type": "stream",
     "text": [
      "The are of triangle is : 12.0\n"
     ]
    }
   ],
   "source": [
    "a = 5\n",
    "b = 5\n",
    "c = 8\n",
    "\n",
    "s = (a + b + c) / 2\n",
    "\n",
    "area = (s*(s-a)*(s-b)*(s-c)) ** 0.5\n",
    "print(\"The are of triangle is :\", area)"
   ]
  },
  {
   "cell_type": "raw",
   "id": "0c490508",
   "metadata": {},
   "source": [
    "Q4). Write a Python program to swap two variables?"
   ]
  },
  {
   "cell_type": "code",
   "execution_count": 12,
   "id": "f7079833",
   "metadata": {},
   "outputs": [
    {
     "name": "stdout",
     "output_type": "stream",
     "text": [
      "The value of a  after swaping if : 20\n",
      "The value of b  after swaping if : 10\n"
     ]
    }
   ],
   "source": [
    "a = 10\n",
    "b = 20\n",
    "\n",
    "\n",
    "temp = a\n",
    "a = b\n",
    "b = temp\n",
    "print(\"The value of a  after swaping if :\", a)\n",
    "print(\"The value of b  after swaping if :\", b)"
   ]
  },
  {
   "cell_type": "raw",
   "id": "9f0284ca",
   "metadata": {},
   "source": [
    "Q5). Write a Python program to generate a random number?"
   ]
  },
  {
   "cell_type": "code",
   "execution_count": 18,
   "id": "a1d8861f",
   "metadata": {},
   "outputs": [
    {
     "name": "stdout",
     "output_type": "stream",
     "text": [
      "7943\n"
     ]
    }
   ],
   "source": [
    "import random\n",
    "print(random.randint(999,9999))"
   ]
  }
 ],
 "metadata": {
  "kernelspec": {
   "display_name": "Python 3",
   "language": "python",
   "name": "python3"
  },
  "language_info": {
   "codemirror_mode": {
    "name": "ipython",
    "version": 3
   },
   "file_extension": ".py",
   "mimetype": "text/x-python",
   "name": "python",
   "nbconvert_exporter": "python",
   "pygments_lexer": "ipython3",
   "version": "3.8.8"
  }
 },
 "nbformat": 4,
 "nbformat_minor": 5
}
